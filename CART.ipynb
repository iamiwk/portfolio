{
 "cells": [
  {
   "cell_type": "code",
   "execution_count": 1,
   "metadata": {},
   "outputs": [],
   "source": [
    "import pandas as pd\n",
    "import numpy  as np"
   ]
  },
  {
   "cell_type": "code",
   "execution_count": 2,
   "metadata": {},
   "outputs": [],
   "source": [
    "import sys\n",
    "import locale"
   ]
  },
  {
   "cell_type": "code",
   "execution_count": 3,
   "metadata": {},
   "outputs": [],
   "source": [
    "import os\n",
    "import glob\n",
    "from PIL import Image, ImageDraw, ImageFont"
   ]
  },
  {
   "cell_type": "code",
   "execution_count": 4,
   "metadata": {},
   "outputs": [],
   "source": [
    "my_data=[[0.388,0.068,0.244,0.055,'Excellent'],\n",
    "[0.388,0.068,0.244,0.300,'Excellent'],\n",
    "[0.388,0.068,0.296,0.055,'Excellent'],\n",
    "[0.388,0.106,0.244,0.055,'Excellent'],\n",
    "[0.460,0.068,0.244,0.055,'Good'],\n",
    "[0.388,0.068,0.296,0.300,'Excellent'],\n",
    "[0.388,0.106,0.244,0.300,'Good'],\n",
    "[0.460,0.068,0.244,0.300,'Good'],\n",
    "[0.388,0.106,0.296,0.055,'Good'],\n",
    "[0.460,0.068,0.296,0.055,'Good'],\n",
    "[0.460,0.106,0.244,0.055,'Good'],\n",
    "[0.388,0.106,0.296,0.300,'Good'],\n",
    "[0.460,0.106,0.296,0.055,'Good'],\n",
    "[0.460,0.106,0.244,0.300,'Good'],\n",
    "[0.460,0.068,0.296,0.300,'Good'],\n",
    "[0.460,0.106,0.296,0.300,'Good'],\n",
    "[0.460,0.106,0.296,0.481,'Good'],\n",
    "[0.460,0.106,0.367,0.300,'Good'],\n",
    "[0.460,0.155,0.296,0.300,'Good'],\n",
    "[0.523,0.106,0.296,0.300,'Tense'],\n",
    "[0.460,0.106,0.367,0.481,'Good'],\n",
    "[0.460,0.155,0.296,0.481,'Tense'],\n",
    "[0.523,0.106,0.296,0.481,'Tense'],\n",
    "[0.460,0.155,0.367,0.300,'Tense'],\n",
    "[0.523,0.106,0.367,0.300,'Tense'],\n",
    "[0.523,0.155,0.296,0.300,'Tense'],\n",
    "[0.523,0.155,0.367,0.300,'Tense'],\n",
    "[0.523,0.106,0.367,0.481,'Tense'],\n",
    "[0.523,0.155,0.296,0.481,'Tense'],\n",
    "[0.460,0.155,0.367,0.481,'Tense'],\n",
    "[0.523,0.155,0.367,0.481,'Tense'],\n",
    "[0.523,0.155,0.367,0.750,'Tense'],\n",
    "[0.523,0.155,0.555,0.481,'Tense'],\n",
    "[0.523,0.250,0.367,0.481,'Tense'],\n",
    "[0.755,0.155,0.367,0.481,'Bad'],\n",
    "[0.523,0.155,0.555,0.750,'Tense'],\n",
    "[0.523,0.250,0.367,0.750,'Bad'],\n",
    "[0.755,0.155,0.367,0.750,'Bad'],\n",
    "[0.523,0.250,0.555,0.481,'Bad'],\n",
    "[0.755,0.155,0.555,0.481,'Bad'],\n",
    "[0.755,0.250,0.367,0.481,'Bad'],\n",
    "[0.755,0.250,0.555,0.481,'Bad'],\n",
    "[0.755,0.155,0.555,0.750,'Bad'],\n",
    "[0.755,0.250,0.367,0.750,'Bad'],\n",
    "[0.523,0.250,0.555,0.750,'Bad'],\n",
    "[0.755,0.250,0.555,0.750,'Bad'],\n",
    "[0.388,0.068,0.244,0.481,'Excellent'],\n",
    "[0.388,0.068,0.367,0.055,'Excellent'],\n",
    "[0.388,0.155,0.244,0.055,'Good'],\n",
    "[0.388,0.250,0.244,0.055,'Good'],\n",
    "[0.523,0.068,0.244,0.055,'Tense'],\n",
    "[0.460,0.106,0.296,0.750,'Good'],\n",
    "[0.460,0.106,0.555,0.300,'Good'],\n",
    "[0.460,0.250,0.296,0.300,'Tense'],\n",
    "[0.755,0.106,0.296,0.300,'Bad'],\n",
    "[0.388,0.068,0.367,0.481,'Good'],\n",
    "[0.388,0.155,0.367,0.055,'Good'],\n",
    "[0.523,0.155,0.244,0.055,'Tense'],\n",
    "[0.755,0.155,0.244,0.055,'Bad'],\n",
    "[0.523,0.155,0.367,0.055,'Tense'],\n",
    "[0.755,0.250,0.555,0.055,'Bad'],\n",
    "[0.523,0.155,0.244,0.481,'Tense'],\n",
    "[0.755,0.250,0.244,0.750,'Bad'],\n",
    "[0.523,0.068,0.244,0.481,'Tense'],\n",
    "[0.755,0.068,0.244,0.750,'Bad'],\n",
    "[0.523,0.068,0.367,0.055,'Tense'],\n",
    "[0.755,0.068,0.555,0.055,'Bad']]"
   ]
  },
  {
   "cell_type": "code",
   "execution_count": 5,
   "metadata": {},
   "outputs": [],
   "source": [
    " # my_data"
   ]
  },
  {
   "cell_type": "code",
   "execution_count": 6,
   "metadata": {},
   "outputs": [],
   "source": [
    "class decisionnode:\n",
    "    def __init__(self,col=-1,value=None,results=None,tb=None,fb=None):\n",
    "        self.col=col\n",
    "        self.value=value\n",
    "        self.results=results\n",
    "        self.tb=tb\n",
    "        self.fb=fb"
   ]
  },
  {
   "cell_type": "code",
   "execution_count": 7,
   "metadata": {
    "jupyter": {
     "source_hidden": true
    }
   },
   "outputs": [],
   "source": [
    "# Divides a set on a specific column. Can handle numeric\n",
    "# or nominal values\n",
    "def divideset(rows,column,value):\n",
    "    # Make a function that tells us if a row is in\n",
    "    # the first group (true) or the second group (false)\n",
    "    split_function=None\n",
    "    if isinstance(value,int) or isinstance(value,float):\n",
    "        split_function=lambda row:row[column]>=value\n",
    "    else:\n",
    "        split_function=lambda row:row[column]==value\n",
    "        # Divide the rows into two sets and return them\n",
    "    set1=[row for row in rows if split_function(row)]\n",
    "    set2=[row for row in rows if not split_function(row)]\n",
    "    return (set1,set2)"
   ]
  },
  {
   "cell_type": "code",
   "execution_count": 8,
   "metadata": {},
   "outputs": [],
   "source": [
    "# Divides a set on a specific column. Can handle numeric\n",
    "# or nominal values\n",
    "def divideset(rows,column,value):\n",
    "    # Make a function that tells us if a row is in\n",
    "    # the first group (true) or the second group (false)\n",
    "    split_function=None\n",
    "    if isinstance(value,int) or isinstance(value,float):\n",
    "        split_function=lambda row:row[column]>=value\n",
    "    else:\n",
    "        split_function=lambda row:row[column]==value\n",
    "        # Divide the rows into two sets and return them\n",
    "    set1=[row for row in rows if split_function(row)]\n",
    "    set2=[row for row in rows if not split_function(row)]\n",
    "    return (set1,set2)"
   ]
  },
  {
   "cell_type": "code",
   "execution_count": 9,
   "metadata": {},
   "outputs": [
    {
     "data": {
      "text/plain": [
       "([[0.46, 0.068, 0.244, 0.055, 'Good'],\n",
       "  [0.388, 0.106, 0.244, 0.3, 'Good'],\n",
       "  [0.46, 0.068, 0.244, 0.3, 'Good'],\n",
       "  [0.388, 0.106, 0.296, 0.055, 'Good'],\n",
       "  [0.46, 0.068, 0.296, 0.055, 'Good'],\n",
       "  [0.46, 0.106, 0.244, 0.055, 'Good'],\n",
       "  [0.388, 0.106, 0.296, 0.3, 'Good'],\n",
       "  [0.46, 0.106, 0.296, 0.055, 'Good'],\n",
       "  [0.46, 0.106, 0.244, 0.3, 'Good'],\n",
       "  [0.46, 0.068, 0.296, 0.3, 'Good'],\n",
       "  [0.46, 0.106, 0.296, 0.3, 'Good'],\n",
       "  [0.46, 0.106, 0.296, 0.481, 'Good'],\n",
       "  [0.46, 0.106, 0.367, 0.3, 'Good'],\n",
       "  [0.46, 0.155, 0.296, 0.3, 'Good'],\n",
       "  [0.46, 0.106, 0.367, 0.481, 'Good'],\n",
       "  [0.388, 0.155, 0.244, 0.055, 'Good'],\n",
       "  [0.388, 0.25, 0.244, 0.055, 'Good'],\n",
       "  [0.46, 0.106, 0.296, 0.75, 'Good'],\n",
       "  [0.46, 0.106, 0.555, 0.3, 'Good'],\n",
       "  [0.388, 0.068, 0.367, 0.481, 'Good'],\n",
       "  [0.388, 0.155, 0.367, 0.055, 'Good']],\n",
       " [[0.388, 0.068, 0.244, 0.055, 'Excellent'],\n",
       "  [0.388, 0.068, 0.244, 0.3, 'Excellent'],\n",
       "  [0.388, 0.068, 0.296, 0.055, 'Excellent'],\n",
       "  [0.388, 0.106, 0.244, 0.055, 'Excellent'],\n",
       "  [0.388, 0.068, 0.296, 0.3, 'Excellent'],\n",
       "  [0.523, 0.106, 0.296, 0.3, 'Tense'],\n",
       "  [0.46, 0.155, 0.296, 0.481, 'Tense'],\n",
       "  [0.523, 0.106, 0.296, 0.481, 'Tense'],\n",
       "  [0.46, 0.155, 0.367, 0.3, 'Tense'],\n",
       "  [0.523, 0.106, 0.367, 0.3, 'Tense'],\n",
       "  [0.523, 0.155, 0.296, 0.3, 'Tense'],\n",
       "  [0.523, 0.155, 0.367, 0.3, 'Tense'],\n",
       "  [0.523, 0.106, 0.367, 0.481, 'Tense'],\n",
       "  [0.523, 0.155, 0.296, 0.481, 'Tense'],\n",
       "  [0.46, 0.155, 0.367, 0.481, 'Tense'],\n",
       "  [0.523, 0.155, 0.367, 0.481, 'Tense'],\n",
       "  [0.523, 0.155, 0.367, 0.75, 'Tense'],\n",
       "  [0.523, 0.155, 0.555, 0.481, 'Tense'],\n",
       "  [0.523, 0.25, 0.367, 0.481, 'Tense'],\n",
       "  [0.755, 0.155, 0.367, 0.481, 'Bad'],\n",
       "  [0.523, 0.155, 0.555, 0.75, 'Tense'],\n",
       "  [0.523, 0.25, 0.367, 0.75, 'Bad'],\n",
       "  [0.755, 0.155, 0.367, 0.75, 'Bad'],\n",
       "  [0.523, 0.25, 0.555, 0.481, 'Bad'],\n",
       "  [0.755, 0.155, 0.555, 0.481, 'Bad'],\n",
       "  [0.755, 0.25, 0.367, 0.481, 'Bad'],\n",
       "  [0.755, 0.25, 0.555, 0.481, 'Bad'],\n",
       "  [0.755, 0.155, 0.555, 0.75, 'Bad'],\n",
       "  [0.755, 0.25, 0.367, 0.75, 'Bad'],\n",
       "  [0.523, 0.25, 0.555, 0.75, 'Bad'],\n",
       "  [0.755, 0.25, 0.555, 0.75, 'Bad'],\n",
       "  [0.388, 0.068, 0.244, 0.481, 'Excellent'],\n",
       "  [0.388, 0.068, 0.367, 0.055, 'Excellent'],\n",
       "  [0.523, 0.068, 0.244, 0.055, 'Tense'],\n",
       "  [0.46, 0.25, 0.296, 0.3, 'Tense'],\n",
       "  [0.755, 0.106, 0.296, 0.3, 'Bad'],\n",
       "  [0.523, 0.155, 0.244, 0.055, 'Tense'],\n",
       "  [0.755, 0.155, 0.244, 0.055, 'Bad'],\n",
       "  [0.523, 0.155, 0.367, 0.055, 'Tense'],\n",
       "  [0.755, 0.25, 0.555, 0.055, 'Bad'],\n",
       "  [0.523, 0.155, 0.244, 0.481, 'Tense'],\n",
       "  [0.755, 0.25, 0.244, 0.75, 'Bad'],\n",
       "  [0.523, 0.068, 0.244, 0.481, 'Tense'],\n",
       "  [0.755, 0.068, 0.244, 0.75, 'Bad'],\n",
       "  [0.523, 0.068, 0.367, 0.055, 'Tense'],\n",
       "  [0.755, 0.068, 0.555, 0.055, 'Bad']])"
      ]
     },
     "execution_count": 9,
     "metadata": {},
     "output_type": "execute_result"
    }
   ],
   "source": [
    "divideset(my_data,4,'Good')\n"
   ]
  },
  {
   "cell_type": "code",
   "execution_count": 10,
   "metadata": {},
   "outputs": [],
   "source": [
    " # Create counts of possible results (the last column of\n",
    "# each row is the result)\n",
    "def uniquecounts(rows):\n",
    "    results={}\n",
    "    for row in rows:\n",
    "        # The result is the last column\n",
    "        r=row[len(row)-1]\n",
    "        if r not in results: results[r]=0\n",
    "        results[r]+=1\n",
    "    return results"
   ]
  },
  {
   "cell_type": "code",
   "execution_count": 11,
   "metadata": {},
   "outputs": [],
   "source": [
    "# Probability that a randomly placed item will\n",
    "# be in the wrong category\n",
    "def giniimpurity(rows):\n",
    "    total=len(rows)\n",
    "    counts=uniquecounts(rows)\n",
    "    imp=0\n",
    "    for k1 in counts:\n",
    "        p1=float(counts[k1])/total\n",
    "        for k2 in counts:\n",
    "            if k1==k2: continue\n",
    "            p2=float(counts[k2])/total\n",
    "            imp+=p1*p2\n",
    "    return imp\n",
    "# This function calculates"
   ]
  },
  {
   "cell_type": "code",
   "execution_count": 12,
   "metadata": {},
   "outputs": [],
   "source": [
    "# Entropy is the sum of p(x)log(p(x)) across all\n",
    "# the different possible results\n",
    "def entropy(rows):\n",
    "    from math import log\n",
    "    log2=lambda x:log(x)/log(2)\n",
    "    results=uniquecounts(rows)\n",
    "    # Now calculate the entropy\n",
    "    ent=0.0\n",
    "    for r in results.keys( ):\n",
    "        p=float(results[r])/len(rows)\n",
    "        ent=ent-p*log2(p)\n",
    "    return ent"
   ]
  },
  {
   "cell_type": "code",
   "execution_count": 13,
   "metadata": {},
   "outputs": [
    {
     "data": {
      "text/plain": [
       "1.4530000350639796"
      ]
     },
     "execution_count": 13,
     "metadata": {},
     "output_type": "execute_result"
    }
   ],
   "source": [
    "giniimpurity(my_data)\n",
    "entropy(my_data)\n",
    "divideset(my_data,4,'Good')\n",
    "set1,set2=divideset(my_data,4,'Good')\n",
    "entropy(set2)\n",
    "\n"
   ]
  },
  {
   "cell_type": "code",
   "execution_count": 15,
   "metadata": {},
   "outputs": [
    {
     "data": {
      "text/plain": [
       "1.8946785300990632"
      ]
     },
     "execution_count": 15,
     "metadata": {},
     "output_type": "execute_result"
    }
   ],
   "source": [
    "entropy(my_data)"
   ]
  },
  {
   "cell_type": "code",
   "execution_count": 14,
   "metadata": {},
   "outputs": [
    {
     "data": {
      "text/plain": [
       "0.7186455780797505"
      ]
     },
     "execution_count": 14,
     "metadata": {},
     "output_type": "execute_result"
    }
   ],
   "source": [
    "giniimpurity(my_data)"
   ]
  },
  {
   "cell_type": "code",
   "execution_count": 16,
   "metadata": {},
   "outputs": [
    {
     "data": {
      "text/plain": [
       "0.611531190926276"
      ]
     },
     "execution_count": 16,
     "metadata": {},
     "output_type": "execute_result"
    }
   ],
   "source": [
    "giniimpurity(set2)"
   ]
  },
  {
   "cell_type": "code",
   "execution_count": 17,
   "metadata": {},
   "outputs": [],
   "source": [
    "def buildtree(rows,scoref=entropy):\n",
    "    if len(rows)==0: return decisionnode( )\n",
    "    current_score=scoref(rows)\n",
    "    # Set up some variables to track the best criteria\n",
    "    best_gain=0.0\n",
    "    best_criteria=None\n",
    "    best_sets=None\n",
    "    column_count=len(rows[0])-1\n",
    "    for col in range(0,column_count):\n",
    "        # Generate the list of different values in\n",
    "        # this column\n",
    "        column_values={}\n",
    "        for row in rows:\n",
    "            column_values[row[col]]=1\n",
    "        # Now try dividing the rows up for each value\n",
    "        # in this column\n",
    "        for value in column_values.keys( ):\n",
    "            (set1,set2)=divideset(rows,col,value)\n",
    "            \n",
    "        # Information gain\n",
    "        p=float(len(set1))/len(rows)\n",
    "        gain=current_score-p*scoref(set1)-(1-p)*scoref(set2)\n",
    "        if gain>best_gain and len(set1)>0 and len(set2)>0:\n",
    "            best_gain=gain\n",
    "            best_criteria=(col,value)\n",
    "            best_sets=(set1,set2)\n",
    "        # Create the subbranches\n",
    "        # Create the subbranches\n",
    "    if best_gain>0:\n",
    "        trueBranch=buildtree(best_sets[0])\n",
    "        falseBranch=buildtree(best_sets[1])\n",
    "        return decisionnode(col=best_criteria[0],value=best_criteria[1],\n",
    "        tb=trueBranch,fb=falseBranch)\n",
    "    else:\n",
    "        return decisionnode(results=uniquecounts(rows))"
   ]
  },
  {
   "cell_type": "code",
   "execution_count": 18,
   "metadata": {},
   "outputs": [],
   "source": [
    "tree = buildtree(my_data)"
   ]
  },
  {
   "cell_type": "code",
   "execution_count": 19,
   "metadata": {},
   "outputs": [],
   "source": [
    "def printtree(tree,indent=''):\n",
    "    # Is this a leaf node?\n",
    "    if tree.results!=None:\n",
    "        print (str(tree.results))\n",
    "    else:\n",
    "        # Print the criteria\n",
    "        print (str(tree.col)+':'+str(tree.value)+'? ')\n",
    "        # Print the branches\n",
    "        print (indent+'T->'),\n",
    "        printtree(tree.tb,indent+' ')\n",
    "        print (indent+'F->'),\n",
    "        printtree(tree.fb,indent+' ')"
   ]
  },
  {
   "cell_type": "code",
   "execution_count": 20,
   "metadata": {},
   "outputs": [
    {
     "name": "stdout",
     "output_type": "stream",
     "text": [
      "0:0.755? \n",
      "T->\n",
      "{'Bad': 14}\n",
      "F->\n",
      "0:0.523? \n",
      " T->\n",
      "{'Tense': 18, 'Bad': 3}\n",
      " F->\n",
      "0:0.46? \n",
      "  T->\n",
      "1:0.25? \n",
      "   T->\n",
      "{'Tense': 1}\n",
      "   F->\n",
      "1:0.155? \n",
      "    T->\n",
      "2:0.367? \n",
      "     T->\n",
      "{'Tense': 2}\n",
      "     F->\n",
      "3:0.481? \n",
      "      T->\n",
      "{'Tense': 1}\n",
      "      F->\n",
      "{'Good': 1}\n",
      "    F->\n",
      "{'Good': 13}\n",
      "  F->\n",
      "1:0.25? \n",
      "   T->\n",
      "{'Good': 1}\n",
      "   F->\n",
      "1:0.155? \n",
      "    T->\n",
      "{'Good': 2}\n",
      "    F->\n",
      "1:0.106? \n",
      "     T->\n",
      "2:0.296? \n",
      "      T->\n",
      "{'Good': 2}\n",
      "      F->\n",
      "3:0.3? \n",
      "       T->\n",
      "{'Good': 1}\n",
      "       F->\n",
      "{'Excellent': 1}\n",
      "     F->\n",
      "2:0.367? \n",
      "      T->\n",
      "3:0.481? \n",
      "       T->\n",
      "{'Good': 1}\n",
      "       F->\n",
      "{'Excellent': 1}\n",
      "      F->\n",
      "{'Excellent': 5}\n"
     ]
    }
   ],
   "source": [
    "printtree(tree)"
   ]
  },
  {
   "cell_type": "code",
   "execution_count": 21,
   "metadata": {},
   "outputs": [],
   "source": [
    "def getwidth(tree):\n",
    "    if tree.tb==None and tree.fb==None: return 1\n",
    "    return getwidth(tree.tb)+getwidth(tree.fb)"
   ]
  },
  {
   "cell_type": "code",
   "execution_count": 22,
   "metadata": {},
   "outputs": [],
   "source": [
    "def getdepth(tree):\n",
    "    if tree.tb==None and tree.fb==None: return 0\n",
    "    return max(getdepth(tree.tb),getdepth(tree.fb))+1"
   ]
  },
  {
   "cell_type": "code",
   "execution_count": 23,
   "metadata": {},
   "outputs": [],
   "source": [
    "def drawnode(draw,tree,x,y):\n",
    "    if tree.results==None:\n",
    "        # Get the width of each branch\n",
    "        w1=getwidth(tree.fb)*100\n",
    "        w2=getwidth(tree.tb)*100\n",
    "        # Determine the total space required by this node\n",
    "        left=x-(w1+w2)/2\n",
    "        right=x+(w1+w2)/2\n",
    "        # Draw the condition string\n",
    "        draw.text((x-20,y-10),str(tree.col)+':'+str(tree.value),(0,0,0))\n",
    "        # Draw links to the branches\n",
    "        draw.line((x,y,left+w1/2,y+100),fill=(255,0,0))\n",
    "        draw.line((x,y,right-w2/2,y+100),fill=(255,0,0))\n",
    "        # Draw the branch nodes\n",
    "        drawnode(draw,tree.fb,left+w1/2,y+100)\n",
    "        drawnode(draw,tree.tb,right-w2/2,y+100)\n",
    "    else:\n",
    "        txt=' \\n'.join(['%s:%d'%v for v in tree.results.items( )])\n",
    "        draw.text((x-20,y),txt,(0,0,0))"
   ]
  },
  {
   "cell_type": "code",
   "execution_count": 24,
   "metadata": {},
   "outputs": [],
   "source": [
    "def drawtree(tree,jpeg='tree.jpg'):\n",
    "    w=getwidth(tree)*100\n",
    "    h=getdepth(tree)*100+120\n",
    "    img=Image.new('RGB',(w,h),(255,255,255))\n",
    "    draw=ImageDraw.Draw(img)\n",
    "    drawnode(draw,tree,w/2,20)\n",
    "    img.save(jpeg,'JPEG')"
   ]
  },
  {
   "cell_type": "code",
   "execution_count": 25,
   "metadata": {},
   "outputs": [],
   "source": [
    "# drawtree(tree,jpeg='treeview.jpg')"
   ]
  },
  {
   "cell_type": "code",
   "execution_count": 26,
   "metadata": {},
   "outputs": [],
   "source": [
    "def prune(tree,mingain):\n",
    "    # If the branches aren't leaves, then prune them\n",
    "    if tree.tb.results==None:\n",
    "        prune(tree.tb,mingain)\n",
    "    if tree.fb.results==None:\n",
    "        prune(tree.fb,mingain)\n",
    "        \n",
    "    # If both the subbranches are now leaves, see if they\n",
    "    # should merged\n",
    "    if tree.tb.results!=None and tree.fb.results!=None:\n",
    "    # Build a combined dataset\n",
    "        tb,fb=[],[]\n",
    "        for v,c in tree.tb.results.items( ):\n",
    "            tb+=[[v]]*c\n",
    "        for v,c in tree.fb.results.items( ):\n",
    "            fb+=[[v]]*c\n",
    "            \n",
    "        # Test the reduction in entropy\n",
    "        delta=entropy(tb+fb)-(entropy(tb)+entropy(fb)/2)\n",
    "        if delta<mingain:\n",
    "            # Merge the branches\n",
    "            tree.tb,tree.fb=None,None\n",
    "            tree.results=uniquecounts(tb+fb)"
   ]
  },
  {
   "cell_type": "code",
   "execution_count": 27,
   "metadata": {},
   "outputs": [
    {
     "name": "stdout",
     "output_type": "stream",
     "text": [
      "0:0.755? \n",
      "T->\n",
      "{'Bad': 14}\n",
      "F->\n",
      "0:0.523? \n",
      " T->\n",
      "{'Tense': 18, 'Bad': 3}\n",
      " F->\n",
      "0:0.46? \n",
      "  T->\n",
      "1:0.25? \n",
      "   T->\n",
      "{'Tense': 1}\n",
      "   F->\n",
      "1:0.155? \n",
      "    T->\n",
      "2:0.367? \n",
      "     T->\n",
      "{'Tense': 2}\n",
      "     F->\n",
      "3:0.481? \n",
      "      T->\n",
      "{'Tense': 1}\n",
      "      F->\n",
      "{'Good': 1}\n",
      "    F->\n",
      "{'Good': 13}\n",
      "  F->\n",
      "1:0.25? \n",
      "   T->\n",
      "{'Good': 1}\n",
      "   F->\n",
      "1:0.155? \n",
      "    T->\n",
      "{'Good': 2}\n",
      "    F->\n",
      "1:0.106? \n",
      "     T->\n",
      "2:0.296? \n",
      "      T->\n",
      "{'Good': 2}\n",
      "      F->\n",
      "3:0.3? \n",
      "       T->\n",
      "{'Good': 1}\n",
      "       F->\n",
      "{'Excellent': 1}\n",
      "     F->\n",
      "2:0.367? \n",
      "      T->\n",
      "3:0.481? \n",
      "       T->\n",
      "{'Good': 1}\n",
      "       F->\n",
      "{'Excellent': 1}\n",
      "      F->\n",
      "{'Excellent': 5}\n"
     ]
    }
   ],
   "source": [
    "prune(tree,0.1)\n",
    "printtree(tree)"
   ]
  },
  {
   "cell_type": "code",
   "execution_count": 28,
   "metadata": {},
   "outputs": [
    {
     "name": "stdout",
     "output_type": "stream",
     "text": [
      "0:0.755? \n",
      "T->\n",
      "{'Bad': 14}\n",
      "F->\n",
      "0:0.523? \n",
      " T->\n",
      "{'Tense': 18, 'Bad': 3}\n",
      " F->\n",
      "0:0.46? \n",
      "  T->\n",
      "1:0.25? \n",
      "   T->\n",
      "{'Tense': 1}\n",
      "   F->\n",
      "1:0.155? \n",
      "    T->\n",
      "2:0.367? \n",
      "     T->\n",
      "{'Tense': 2}\n",
      "     F->\n",
      "3:0.481? \n",
      "      T->\n",
      "{'Tense': 1}\n",
      "      F->\n",
      "{'Good': 1}\n",
      "    F->\n",
      "{'Good': 13}\n",
      "  F->\n",
      "1:0.25? \n",
      "   T->\n",
      "{'Good': 1}\n",
      "   F->\n",
      "1:0.155? \n",
      "    T->\n",
      "{'Good': 2}\n",
      "    F->\n",
      "1:0.106? \n",
      "     T->\n",
      "2:0.296? \n",
      "      T->\n",
      "{'Good': 2}\n",
      "      F->\n",
      "3:0.3? \n",
      "       T->\n",
      "{'Good': 1}\n",
      "       F->\n",
      "{'Excellent': 1}\n",
      "     F->\n",
      "2:0.367? \n",
      "      T->\n",
      "3:0.481? \n",
      "       T->\n",
      "{'Good': 1}\n",
      "       F->\n",
      "{'Excellent': 1}\n",
      "      F->\n",
      "{'Excellent': 5}\n"
     ]
    }
   ],
   "source": [
    "prune(tree,1.0)\n",
    "printtree(tree)"
   ]
  }
 ],
 "metadata": {
  "instance_type": "ml.t3.medium",
  "kernelspec": {
   "display_name": "Python 3 (Base Python)",
   "language": "python",
   "name": "python3__SAGEMAKER_INTERNAL__arn:aws:sagemaker:us-west-2:236514542706:image/python-3.6"
  },
  "language_info": {
   "codemirror_mode": {
    "name": "ipython",
    "version": 3
   },
   "file_extension": ".py",
   "mimetype": "text/x-python",
   "name": "python",
   "nbconvert_exporter": "python",
   "pygments_lexer": "ipython3",
   "version": "3.6.10"
  }
 },
 "nbformat": 4,
 "nbformat_minor": 4
}
