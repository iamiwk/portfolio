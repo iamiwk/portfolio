{
  "nbformat": 4,
  "nbformat_minor": 0,
  "metadata": {
    "colab": {
      "name": "Developing a predictive model for time series data with using LSTM",
      "provenance": [],
      "collapsed_sections": [],
      "authorship_tag": "ABX9TyNPirb8MrFEeBoST1p6sqPh",
      "include_colab_link": true
    },
    "kernelspec": {
      "name": "python3",
      "display_name": "Python 3"
    }
  },
  "cells": [
    {
      "cell_type": "markdown",
      "metadata": {
        "id": "view-in-github",
        "colab_type": "text"
      },
      "source": [
        "<a href=\"https://colab.research.google.com/github/iamiwk/portfolio/blob/master/Developing_a_predictive_model_for_time_series_data_with_using_LSTM.ipynb\" target=\"_parent\"><img src=\"https://colab.research.google.com/assets/colab-badge.svg\" alt=\"Open In Colab\"/></a>"
      ]
    },
    {
      "cell_type": "code",
      "metadata": {
        "colab": {
          "base_uri": "https://localhost:8080/",
          "height": 221
        },
        "id": "bbbQnynOhVRh",
        "outputId": "75a0fddd-e8a9-4571-ee3b-888f02857003"
      },
      "source": [
        "import math\n",
        "import matplotlib.pyplot as plt\n",
        "import keras\n",
        "import pandas as pd\n",
        "import numpy as np\n",
        "from keras.models import Sequential\n",
        "from keras.layers import Dense\n",
        "from keras.layers import LSTM\n",
        "from keras.layers import Dropout\n",
        "from keras.layers import *\n",
        "from sklearn.preprocessing import MinMaxScaler\n",
        "from sklearn.metrics import mean_squared_error\n",
        "from sklearn.metrics import mean_absolute_error\n",
        "from sklearn.model_selection import train_test_split\n",
        "from keras.callbacks import EarlyStopping\n",
        "df=pd.read_csv(\"TSLA.csv\")\n",
        "print(\"Number of rows and columns:\", df.shape)\n",
        "df.head(5)"
      ],
      "execution_count": null,
      "outputs": [
        {
          "output_type": "stream",
          "text": [
            "Number of rows and columns: (1259, 7)\n"
          ],
          "name": "stdout"
        },
        {
          "output_type": "execute_result",
          "data": {
            "text/html": [
              "<div>\n",
              "<style scoped>\n",
              "    .dataframe tbody tr th:only-of-type {\n",
              "        vertical-align: middle;\n",
              "    }\n",
              "\n",
              "    .dataframe tbody tr th {\n",
              "        vertical-align: top;\n",
              "    }\n",
              "\n",
              "    .dataframe thead th {\n",
              "        text-align: right;\n",
              "    }\n",
              "</style>\n",
              "<table border=\"1\" class=\"dataframe\">\n",
              "  <thead>\n",
              "    <tr style=\"text-align: right;\">\n",
              "      <th></th>\n",
              "      <th>Date</th>\n",
              "      <th>Open</th>\n",
              "      <th>High</th>\n",
              "      <th>Low</th>\n",
              "      <th>Close</th>\n",
              "      <th>Adj Close</th>\n",
              "      <th>Volume</th>\n",
              "    </tr>\n",
              "  </thead>\n",
              "  <tbody>\n",
              "    <tr>\n",
              "      <th>0</th>\n",
              "      <td>2015-07-10</td>\n",
              "      <td>52.444000</td>\n",
              "      <td>52.599998</td>\n",
              "      <td>51.563999</td>\n",
              "      <td>51.830002</td>\n",
              "      <td>51.830002</td>\n",
              "      <td>13054500</td>\n",
              "    </tr>\n",
              "    <tr>\n",
              "      <th>1</th>\n",
              "      <td>2015-07-13</td>\n",
              "      <td>52.450001</td>\n",
              "      <td>52.509998</td>\n",
              "      <td>51.209999</td>\n",
              "      <td>52.431999</td>\n",
              "      <td>52.431999</td>\n",
              "      <td>14801500</td>\n",
              "    </tr>\n",
              "    <tr>\n",
              "      <th>2</th>\n",
              "      <td>2015-07-14</td>\n",
              "      <td>52.419998</td>\n",
              "      <td>53.198002</td>\n",
              "      <td>52.102001</td>\n",
              "      <td>53.130001</td>\n",
              "      <td>53.130001</td>\n",
              "      <td>9538000</td>\n",
              "    </tr>\n",
              "    <tr>\n",
              "      <th>3</th>\n",
              "      <td>2015-07-15</td>\n",
              "      <td>53.348000</td>\n",
              "      <td>53.498001</td>\n",
              "      <td>52.416000</td>\n",
              "      <td>52.627998</td>\n",
              "      <td>52.627998</td>\n",
              "      <td>10108000</td>\n",
              "    </tr>\n",
              "    <tr>\n",
              "      <th>4</th>\n",
              "      <td>2015-07-16</td>\n",
              "      <td>52.844002</td>\n",
              "      <td>53.439999</td>\n",
              "      <td>52.632000</td>\n",
              "      <td>53.335999</td>\n",
              "      <td>53.335999</td>\n",
              "      <td>8080000</td>\n",
              "    </tr>\n",
              "  </tbody>\n",
              "</table>\n",
              "</div>"
            ],
            "text/plain": [
              "         Date       Open       High        Low      Close  Adj Close    Volume\n",
              "0  2015-07-10  52.444000  52.599998  51.563999  51.830002  51.830002  13054500\n",
              "1  2015-07-13  52.450001  52.509998  51.209999  52.431999  52.431999  14801500\n",
              "2  2015-07-14  52.419998  53.198002  52.102001  53.130001  53.130001   9538000\n",
              "3  2015-07-15  53.348000  53.498001  52.416000  52.627998  52.627998  10108000\n",
              "4  2015-07-16  52.844002  53.439999  52.632000  53.335999  53.335999   8080000"
            ]
          },
          "metadata": {
            "tags": []
          },
          "execution_count": 3
        }
      ]
    },
    {
      "cell_type": "code",
      "metadata": {
        "id": "4TZXO5WTl3gv"
      },
      "source": [
        "training_set = df.iloc[:800, 1:2].values\n",
        "test_set = df.iloc[800:, 1:2].values"
      ],
      "execution_count": null,
      "outputs": []
    },
    {
      "cell_type": "code",
      "metadata": {
        "id": "0AxkG9fVl2Qi"
      },
      "source": [
        "# Feature Scaling\n",
        "sc = MinMaxScaler(feature_range = (0, 1))\n",
        "training_set_scaled = sc.fit_transform(training_set)\n",
        "# Creating a data structure with 60 time-steps and 1 output\n",
        "X_train = []\n",
        "y_train = []\n",
        "for i in range(60, 800):\n",
        "    X_train.append(training_set_scaled[i-60:i, 0])\n",
        "    y_train.append(training_set_scaled[i, 0])\n",
        "X_train, y_train = np.array(X_train), np.array(y_train)\n",
        "X_train = np.reshape(X_train, (X_train.shape[0], X_train.shape[1], 1))\n",
        "#(740, 60, 1)"
      ],
      "execution_count": null,
      "outputs": []
    },
    {
      "cell_type": "code",
      "metadata": {
        "colab": {
          "base_uri": "https://localhost:8080/"
        },
        "id": "1ey1qdDpmK2X",
        "outputId": "a942c649-599b-494f-f15a-42706c73ccf1"
      },
      "source": [
        "model = Sequential()\n",
        "#Adding the first LSTM layer and some Dropout regularisation\n",
        "model.add(LSTM(units = 50, return_sequences = True, input_shape = (X_train.shape[1], 1)))\n",
        "model.add(Dropout(0.2))\n",
        "# Adding a second LSTM layer and some Dropout regularisation\n",
        "model.add(LSTM(units = 50, return_sequences = True))\n",
        "model.add(Dropout(0.2))\n",
        "# Adding a third LSTM layer and some Dropout regularisation\n",
        "model.add(LSTM(units = 50, return_sequences = True))\n",
        "model.add(Dropout(0.2))\n",
        "# Adding a fourth LSTM layer and some Dropout regularisation\n",
        "model.add(LSTM(units = 50))\n",
        "model.add(Dropout(0.2))\n",
        "# Adding the output layer\n",
        "model.add(Dense(units = 1))\n",
        "\n",
        "# Compiling the RNN\n",
        "model.compile(optimizer = 'adam', loss = 'mean_squared_error')\n",
        "\n",
        "# Fitting the RNN to the Training set\n",
        "model.fit(X_train, y_train, epochs = 100, batch_size = 32)"
      ],
      "execution_count": null,
      "outputs": [
        {
          "output_type": "stream",
          "text": [
            "Epoch 1/100\n",
            "24/24 [==============================] - 8s 105ms/step - loss: 0.1030\n",
            "Epoch 2/100\n",
            "24/24 [==============================] - 3s 112ms/step - loss: 0.0163\n",
            "Epoch 3/100\n",
            "24/24 [==============================] - 3s 111ms/step - loss: 0.0143\n",
            "Epoch 4/100\n",
            "24/24 [==============================] - 3s 115ms/step - loss: 0.0116\n",
            "Epoch 5/100\n",
            "24/24 [==============================] - 3s 113ms/step - loss: 0.0124\n",
            "Epoch 6/100\n",
            "24/24 [==============================] - 3s 118ms/step - loss: 0.0132\n",
            "Epoch 7/100\n",
            "24/24 [==============================] - 3s 113ms/step - loss: 0.0109\n",
            "Epoch 8/100\n",
            "24/24 [==============================] - 3s 113ms/step - loss: 0.0108\n",
            "Epoch 9/100\n",
            "24/24 [==============================] - 3s 117ms/step - loss: 0.0106\n",
            "Epoch 10/100\n",
            "24/24 [==============================] - 3s 112ms/step - loss: 0.0122\n",
            "Epoch 11/100\n",
            "24/24 [==============================] - 3s 114ms/step - loss: 0.0093\n",
            "Epoch 12/100\n",
            "24/24 [==============================] - 3s 115ms/step - loss: 0.0097\n",
            "Epoch 13/100\n",
            "24/24 [==============================] - 3s 114ms/step - loss: 0.0147\n",
            "Epoch 14/100\n",
            "24/24 [==============================] - 3s 113ms/step - loss: 0.0088\n",
            "Epoch 15/100\n",
            "24/24 [==============================] - 3s 113ms/step - loss: 0.0090\n",
            "Epoch 16/100\n",
            "24/24 [==============================] - 3s 114ms/step - loss: 0.0087\n",
            "Epoch 17/100\n",
            "24/24 [==============================] - 3s 114ms/step - loss: 0.0081\n",
            "Epoch 18/100\n",
            "24/24 [==============================] - 3s 116ms/step - loss: 0.0070\n",
            "Epoch 19/100\n",
            "24/24 [==============================] - 3s 112ms/step - loss: 0.0076\n",
            "Epoch 20/100\n",
            "24/24 [==============================] - 3s 114ms/step - loss: 0.0084\n",
            "Epoch 21/100\n",
            "24/24 [==============================] - 4s 163ms/step - loss: 0.0072\n",
            "Epoch 22/100\n",
            "24/24 [==============================] - 4s 178ms/step - loss: 0.0092\n",
            "Epoch 23/100\n",
            "24/24 [==============================] - 5s 198ms/step - loss: 0.0071\n",
            "Epoch 24/100\n",
            "24/24 [==============================] - 3s 129ms/step - loss: 0.0066\n",
            "Epoch 25/100\n",
            "24/24 [==============================] - 3s 117ms/step - loss: 0.0067\n",
            "Epoch 26/100\n",
            "24/24 [==============================] - 3s 117ms/step - loss: 0.0086\n",
            "Epoch 27/100\n",
            "24/24 [==============================] - 3s 118ms/step - loss: 0.0056\n",
            "Epoch 28/100\n",
            "24/24 [==============================] - 3s 117ms/step - loss: 0.0068\n",
            "Epoch 29/100\n",
            "24/24 [==============================] - 3s 115ms/step - loss: 0.0060\n",
            "Epoch 30/100\n",
            "24/24 [==============================] - 3s 113ms/step - loss: 0.0064\n",
            "Epoch 31/100\n",
            "24/24 [==============================] - 3s 114ms/step - loss: 0.0056\n",
            "Epoch 32/100\n",
            "24/24 [==============================] - 3s 114ms/step - loss: 0.0056\n",
            "Epoch 33/100\n",
            "24/24 [==============================] - 3s 115ms/step - loss: 0.0058\n",
            "Epoch 34/100\n",
            "24/24 [==============================] - 3s 117ms/step - loss: 0.0062\n",
            "Epoch 35/100\n",
            "24/24 [==============================] - 3s 117ms/step - loss: 0.0058\n",
            "Epoch 36/100\n",
            "24/24 [==============================] - 3s 116ms/step - loss: 0.0051\n",
            "Epoch 37/100\n",
            "24/24 [==============================] - 3s 112ms/step - loss: 0.0051\n",
            "Epoch 38/100\n",
            "24/24 [==============================] - 3s 113ms/step - loss: 0.0052\n",
            "Epoch 39/100\n",
            "24/24 [==============================] - 3s 114ms/step - loss: 0.0056\n",
            "Epoch 40/100\n",
            "24/24 [==============================] - 3s 116ms/step - loss: 0.0042\n",
            "Epoch 41/100\n",
            "24/24 [==============================] - 3s 114ms/step - loss: 0.0046\n",
            "Epoch 42/100\n",
            "24/24 [==============================] - 3s 116ms/step - loss: 0.0049\n",
            "Epoch 43/100\n",
            "24/24 [==============================] - 3s 116ms/step - loss: 0.0045\n",
            "Epoch 44/100\n",
            "24/24 [==============================] - 3s 114ms/step - loss: 0.0050\n",
            "Epoch 45/100\n",
            "24/24 [==============================] - 3s 113ms/step - loss: 0.0042\n",
            "Epoch 46/100\n",
            "24/24 [==============================] - 3s 116ms/step - loss: 0.0047\n",
            "Epoch 47/100\n",
            "24/24 [==============================] - 3s 114ms/step - loss: 0.0049\n",
            "Epoch 48/100\n",
            "24/24 [==============================] - 3s 114ms/step - loss: 0.0045\n",
            "Epoch 49/100\n",
            "24/24 [==============================] - 3s 114ms/step - loss: 0.0047\n",
            "Epoch 50/100\n",
            "24/24 [==============================] - 3s 115ms/step - loss: 0.0051\n",
            "Epoch 51/100\n",
            "24/24 [==============================] - 3s 114ms/step - loss: 0.0040\n",
            "Epoch 52/100\n",
            "24/24 [==============================] - 3s 113ms/step - loss: 0.0038\n",
            "Epoch 53/100\n",
            "24/24 [==============================] - 3s 114ms/step - loss: 0.0049\n",
            "Epoch 54/100\n",
            "24/24 [==============================] - 3s 115ms/step - loss: 0.0042\n",
            "Epoch 55/100\n",
            "24/24 [==============================] - 3s 115ms/step - loss: 0.0042\n",
            "Epoch 56/100\n",
            "24/24 [==============================] - 3s 114ms/step - loss: 0.0038\n",
            "Epoch 57/100\n",
            "24/24 [==============================] - 3s 114ms/step - loss: 0.0043\n",
            "Epoch 58/100\n",
            "24/24 [==============================] - 3s 115ms/step - loss: 0.0041\n",
            "Epoch 59/100\n",
            "24/24 [==============================] - 3s 113ms/step - loss: 0.0040\n",
            "Epoch 60/100\n",
            "24/24 [==============================] - 3s 115ms/step - loss: 0.0039\n",
            "Epoch 61/100\n",
            "24/24 [==============================] - 3s 114ms/step - loss: 0.0037\n",
            "Epoch 62/100\n",
            "24/24 [==============================] - 3s 116ms/step - loss: 0.0042\n",
            "Epoch 63/100\n",
            "24/24 [==============================] - 3s 113ms/step - loss: 0.0044\n",
            "Epoch 64/100\n",
            "24/24 [==============================] - 3s 114ms/step - loss: 0.0038\n",
            "Epoch 65/100\n",
            "24/24 [==============================] - 3s 112ms/step - loss: 0.0040\n",
            "Epoch 66/100\n",
            "24/24 [==============================] - 3s 116ms/step - loss: 0.0036\n",
            "Epoch 67/100\n",
            "24/24 [==============================] - 3s 115ms/step - loss: 0.0035\n",
            "Epoch 68/100\n",
            "24/24 [==============================] - 3s 115ms/step - loss: 0.0034\n",
            "Epoch 69/100\n",
            "24/24 [==============================] - 3s 120ms/step - loss: 0.0044\n",
            "Epoch 70/100\n",
            "24/24 [==============================] - 3s 117ms/step - loss: 0.0042\n",
            "Epoch 71/100\n",
            "24/24 [==============================] - 3s 117ms/step - loss: 0.0033\n",
            "Epoch 72/100\n",
            "24/24 [==============================] - 3s 115ms/step - loss: 0.0038\n",
            "Epoch 73/100\n",
            "24/24 [==============================] - 3s 117ms/step - loss: 0.0035\n",
            "Epoch 74/100\n",
            "24/24 [==============================] - 3s 113ms/step - loss: 0.0041\n",
            "Epoch 75/100\n",
            "24/24 [==============================] - 3s 115ms/step - loss: 0.0041\n",
            "Epoch 76/100\n",
            "24/24 [==============================] - 3s 116ms/step - loss: 0.0036\n",
            "Epoch 77/100\n",
            "24/24 [==============================] - 3s 115ms/step - loss: 0.0038\n",
            "Epoch 78/100\n",
            "24/24 [==============================] - 3s 117ms/step - loss: 0.0033\n",
            "Epoch 79/100\n",
            "24/24 [==============================] - 3s 115ms/step - loss: 0.0035\n",
            "Epoch 80/100\n",
            "24/24 [==============================] - 3s 116ms/step - loss: 0.0033\n",
            "Epoch 81/100\n",
            "24/24 [==============================] - 3s 119ms/step - loss: 0.0036\n",
            "Epoch 82/100\n",
            "24/24 [==============================] - 3s 114ms/step - loss: 0.0036\n",
            "Epoch 83/100\n",
            "24/24 [==============================] - 3s 117ms/step - loss: 0.0032\n",
            "Epoch 84/100\n",
            "24/24 [==============================] - 3s 116ms/step - loss: 0.0032\n",
            "Epoch 85/100\n",
            "24/24 [==============================] - 3s 116ms/step - loss: 0.0033\n",
            "Epoch 86/100\n",
            "24/24 [==============================] - 3s 116ms/step - loss: 0.0029\n",
            "Epoch 87/100\n",
            "24/24 [==============================] - 3s 116ms/step - loss: 0.0036\n",
            "Epoch 88/100\n",
            "24/24 [==============================] - 3s 115ms/step - loss: 0.0032\n",
            "Epoch 89/100\n",
            "24/24 [==============================] - 3s 116ms/step - loss: 0.0034\n",
            "Epoch 90/100\n",
            "24/24 [==============================] - 3s 115ms/step - loss: 0.0032\n",
            "Epoch 91/100\n",
            "24/24 [==============================] - 3s 118ms/step - loss: 0.0028\n",
            "Epoch 92/100\n",
            "24/24 [==============================] - 3s 116ms/step - loss: 0.0031\n",
            "Epoch 93/100\n",
            "24/24 [==============================] - 3s 115ms/step - loss: 0.0030\n",
            "Epoch 94/100\n",
            "24/24 [==============================] - 3s 116ms/step - loss: 0.0030\n",
            "Epoch 95/100\n",
            "24/24 [==============================] - 3s 115ms/step - loss: 0.0029\n",
            "Epoch 96/100\n",
            "24/24 [==============================] - 3s 121ms/step - loss: 0.0033\n",
            "Epoch 97/100\n",
            "24/24 [==============================] - 3s 117ms/step - loss: 0.0030\n",
            "Epoch 98/100\n",
            "24/24 [==============================] - 3s 116ms/step - loss: 0.0029\n",
            "Epoch 99/100\n",
            "24/24 [==============================] - 3s 116ms/step - loss: 0.0026\n",
            "Epoch 100/100\n",
            "24/24 [==============================] - 3s 116ms/step - loss: 0.0030\n"
          ],
          "name": "stdout"
        },
        {
          "output_type": "execute_result",
          "data": {
            "text/plain": [
              "<tensorflow.python.keras.callbacks.History at 0x7fb960be0ba8>"
            ]
          },
          "metadata": {
            "tags": []
          },
          "execution_count": 8
        }
      ]
    },
    {
      "cell_type": "code",
      "metadata": {
        "colab": {
          "base_uri": "https://localhost:8080/"
        },
        "id": "ujwxc3a6pyaL",
        "outputId": "b17280ad-1ccb-40e3-dbc3-53d2cb7c83d0"
      },
      "source": [
        "# Getting the predicted stock price of 2017\n",
        "dataset_train = df.iloc[:800, 1:2]\n",
        "dataset_test = df.iloc[800:, 1:2]\n",
        "dataset_total = pd.concat((dataset_train, dataset_test), axis = 0)\n",
        "inputs = dataset_total[len(dataset_total) - len(dataset_test) - 60:].values\n",
        "inputs = inputs.reshape(-1,1)\n",
        "inputs = sc.transform(inputs)\n",
        "X_test = []\n",
        "for i in range(60, 519):\n",
        "    X_test.append(inputs[i-60:i, 0])\n",
        "X_test = np.array(X_test)\n",
        "X_test = np.reshape(X_test, (X_test.shape[0], X_test.shape[1], 1))\n",
        "print(X_test.shape)\n",
        "# (459, 60, 1)"
      ],
      "execution_count": null,
      "outputs": [
        {
          "output_type": "stream",
          "text": [
            "(459, 60, 1)\n"
          ],
          "name": "stdout"
        }
      ]
    },
    {
      "cell_type": "code",
      "metadata": {
        "id": "AaeMCKuDp32v"
      },
      "source": [
        "predicted_stock_price = model.predict(X_test)\n",
        "predicted_stock_price = sc.inverse_transform(predicted_stock_price)"
      ],
      "execution_count": null,
      "outputs": []
    },
    {
      "cell_type": "code",
      "metadata": {
        "colab": {
          "base_uri": "https://localhost:8080/",
          "height": 295
        },
        "id": "HP_mgQqNp-K5",
        "outputId": "57fdda0c-8ac8-4186-c76a-db7e8cd753b3"
      },
      "source": [
        "# Visualising the results\n",
        "plt.plot(df.loc[800:, 'Date'],dataset_test.values, color = 'red', label = 'Real TESLA Stock Price')\n",
        "plt.plot(df.loc[800:, 'Date'],predicted_stock_price, color = 'blue', label = 'Predicted TESLA Stock Price')\n",
        "plt.xticks(np.arange(0,459,50))\n",
        "plt.title('TESLA Stock Price Prediction')\n",
        "plt.xlabel('Time')\n",
        "plt.ylabel('TESLA Stock Price')\n",
        "plt.legend()\n",
        "plt.show()"
      ],
      "execution_count": null,
      "outputs": [
        {
          "output_type": "display_data",
          "data": {
            "image/png": "[encoded data removed]",
            "text/plain": [
              "<Figure size 432x288 with 1 Axes>"
            ]
          },
          "metadata": {
            "tags": [],
            "needs_background": "light"
          }
        }
      ]
    }
  ]
}